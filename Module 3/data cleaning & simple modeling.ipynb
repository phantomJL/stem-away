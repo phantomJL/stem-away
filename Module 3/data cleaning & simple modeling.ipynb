{
 "cells": [
  {
   "cell_type": "code",
   "execution_count": 1,
   "metadata": {},
   "outputs": [
    {
     "data": {
      "text/html": [
       "<div>\n",
       "<style scoped>\n",
       "    .dataframe tbody tr th:only-of-type {\n",
       "        vertical-align: middle;\n",
       "    }\n",
       "\n",
       "    .dataframe tbody tr th {\n",
       "        vertical-align: top;\n",
       "    }\n",
       "\n",
       "    .dataframe thead th {\n",
       "        text-align: right;\n",
       "    }\n",
       "</style>\n",
       "<table border=\"1\" class=\"dataframe\">\n",
       "  <thead>\n",
       "    <tr style=\"text-align: right;\">\n",
       "      <th></th>\n",
       "      <th>Unnamed: 0</th>\n",
       "      <th>Topic Title</th>\n",
       "      <th>Category</th>\n",
       "      <th>Tags</th>\n",
       "      <th>Author</th>\n",
       "      <th>Commenters</th>\n",
       "      <th>Leading Comment</th>\n",
       "      <th>Other Comments</th>\n",
       "      <th>Likes</th>\n",
       "      <th>Views</th>\n",
       "    </tr>\n",
       "  </thead>\n",
       "  <tbody>\n",
       "    <tr>\n",
       "      <th>0</th>\n",
       "      <td>0.0</td>\n",
       "      <td>About the Buying/Selling category</td>\n",
       "      <td>Buying/Selling</td>\n",
       "      <td>[]</td>\n",
       "      <td>system</td>\n",
       "      <td>[]</td>\n",
       "      <td>Debating a new ride? Ask all your buying and s...</td>\n",
       "      <td>[]</td>\n",
       "      <td>1</td>\n",
       "      <td>2.2k</td>\n",
       "    </tr>\n",
       "    <tr>\n",
       "      <th>1</th>\n",
       "      <td>1.0</td>\n",
       "      <td>New Car Salesperson Commissions</td>\n",
       "      <td>Buying/Selling</td>\n",
       "      <td>[]</td>\n",
       "      <td>wolyrobb</td>\n",
       "      <td>['wentwest', 'shadowfax', 'VOLVO-V70', 'Trieda...</td>\n",
       "      <td>I’ve been working with a particular salesperso...</td>\n",
       "      <td>['No one here can tell you what any dealers co...</td>\n",
       "      <td>12</td>\n",
       "      <td>559</td>\n",
       "    </tr>\n",
       "    <tr>\n",
       "      <th>2</th>\n",
       "      <td>2.0</td>\n",
       "      <td>Best used car to buy for long road trips?</td>\n",
       "      <td>Buying/Selling</td>\n",
       "      <td>['used-cars']</td>\n",
       "      <td>Whitey</td>\n",
       "      <td>['texases', 'VOLVO-V70', 'Marnet', 'lion9car',...</td>\n",
       "      <td>Hello! I am new to the site and am having a di...</td>\n",
       "      <td>['The answer to your question depends far more...</td>\n",
       "      <td>44</td>\n",
       "      <td>14.6k</td>\n",
       "    </tr>\n",
       "    <tr>\n",
       "      <th>3</th>\n",
       "      <td>3.0</td>\n",
       "      <td>Honda Element any good?</td>\n",
       "      <td>Buying/Selling</td>\n",
       "      <td>['honda', 'element']</td>\n",
       "      <td>texases</td>\n",
       "      <td>['VOLVO-V70', 'old_mopar_guy', 'lockstar', 'sh...</td>\n",
       "      <td>Are these any good and were they discontinued?...</td>\n",
       "      <td>['A simple Google search would have shown that...</td>\n",
       "      <td>24</td>\n",
       "      <td>1.2k</td>\n",
       "    </tr>\n",
       "    <tr>\n",
       "      <th>4</th>\n",
       "      <td>4.0</td>\n",
       "      <td>1993 4Runner vs 2011 Mazda3 Hatch</td>\n",
       "      <td>Buying/Selling</td>\n",
       "      <td>['toyota', '4runner', 'buying', 'used-cars']</td>\n",
       "      <td>galant</td>\n",
       "      <td>['wolyrobb', 'Nevada_545', 'jordanethan609_175...</td>\n",
       "      <td>I’m conflicted between these two cars\\n4Runner...</td>\n",
       "      <td>['You are comparing apples to hamsters with th...</td>\n",
       "      <td>46</td>\n",
       "      <td>1.7k</td>\n",
       "    </tr>\n",
       "  </tbody>\n",
       "</table>\n",
       "</div>"
      ],
      "text/plain": [
       "   Unnamed: 0                                Topic Title        Category  \\\n",
       "0         0.0          About the Buying/Selling category  Buying/Selling   \n",
       "1         1.0            New Car Salesperson Commissions  Buying/Selling   \n",
       "2         2.0  Best used car to buy for long road trips?  Buying/Selling   \n",
       "3         3.0                    Honda Element any good?  Buying/Selling   \n",
       "4         4.0          1993 4Runner vs 2011 Mazda3 Hatch  Buying/Selling   \n",
       "\n",
       "                                           Tags    Author  \\\n",
       "0                                            []    system   \n",
       "1                                            []  wolyrobb   \n",
       "2                                 ['used-cars']    Whitey   \n",
       "3                          ['honda', 'element']   texases   \n",
       "4  ['toyota', '4runner', 'buying', 'used-cars']    galant   \n",
       "\n",
       "                                          Commenters  \\\n",
       "0                                                 []   \n",
       "1  ['wentwest', 'shadowfax', 'VOLVO-V70', 'Trieda...   \n",
       "2  ['texases', 'VOLVO-V70', 'Marnet', 'lion9car',...   \n",
       "3  ['VOLVO-V70', 'old_mopar_guy', 'lockstar', 'sh...   \n",
       "4  ['wolyrobb', 'Nevada_545', 'jordanethan609_175...   \n",
       "\n",
       "                                     Leading Comment  \\\n",
       "0  Debating a new ride? Ask all your buying and s...   \n",
       "1  I’ve been working with a particular salesperso...   \n",
       "2  Hello! I am new to the site and am having a di...   \n",
       "3  Are these any good and were they discontinued?...   \n",
       "4  I’m conflicted between these two cars\\n4Runner...   \n",
       "\n",
       "                                      Other Comments Likes  Views  \n",
       "0                                                 []     1   2.2k  \n",
       "1  ['No one here can tell you what any dealers co...    12    559  \n",
       "2  ['The answer to your question depends far more...    44  14.6k  \n",
       "3  ['A simple Google search would have shown that...    24   1.2k  \n",
       "4  ['You are comparing apples to hamsters with th...    46   1.7k  "
      ]
     },
     "execution_count": 1,
     "metadata": {},
     "output_type": "execute_result"
    }
   ],
   "source": [
    "import pandas as pd\n",
    "\n",
    "data = pd.read_csv('combined_csv.csv')\n",
    "data.head()"
   ]
  },
  {
   "cell_type": "code",
   "execution_count": 2,
   "metadata": {},
   "outputs": [
    {
     "data": {
      "text/plain": [
       "'Are these any good and were they discontinued?  Do they still make them in 2021?  What would be a better pick (NOT TOO HIGH-END) out of some of these listed makes as follows:  Subaru-maybe Outback or Forrester; Honda CRV; Toyota (SUV); GMC (SUV); Chevy (SUV); BMW (SUV); Mercedes (WAGON or SUV); VOLVO (Wagon or SUV), or aby other (affordable, used wagon or SUV)?\\nI want to sell my 2003 and 2004 Honda Accords.  I need cargo space.  One Honda needs a Cat Converter.  I want to replace it (around 600.00 hopefully) and sell it for around 3500.00.  I want to sell the other Honda (2003) for around 2000.00 to 2500.00.  My brother can inspect b/c he knows a lot about cars.  I want to possible camp with my spouse (sleep in back with seats dn), and get around Chicago.  I want a small SUV around 6000.00.  I would like something 2005 or above.  My spouse likes the cargo space in the Element, states it has Honda reliability and thinks the Element looks cool.  Any suggestions out there?  Please advise.'"
      ]
     },
     "execution_count": 2,
     "metadata": {},
     "output_type": "execute_result"
    }
   ],
   "source": [
    "data[\"Leading Comment\"][3]"
   ]
  },
  {
   "cell_type": "code",
   "execution_count": 3,
   "metadata": {},
   "outputs": [],
   "source": [
    "data.drop(['Unnamed: 0','Commenters'],axis = 1,inplace=True)"
   ]
  },
  {
   "cell_type": "code",
   "execution_count": 4,
   "metadata": {},
   "outputs": [
    {
     "data": {
      "text/plain": [
       "Index(['Topic Title', 'Category', 'Tags', 'Author', 'Leading Comment',\n",
       "       'Other Comments', 'Likes', 'Views'],\n",
       "      dtype='object')"
      ]
     },
     "execution_count": 4,
     "metadata": {},
     "output_type": "execute_result"
    }
   ],
   "source": [
    "data.columns"
   ]
  },
  {
   "cell_type": "markdown",
   "metadata": {},
   "source": [
    "## Strategy 1\n",
    "Lower case all the words\n",
    "\n",
    "Replaced by space these [/(){}[]\\'\\“\\”\\’|@,;]\n",
    "\n",
    "Removed these [^0-9a-z #+_]"
   ]
  },
  {
   "cell_type": "code",
   "execution_count": 5,
   "metadata": {},
   "outputs": [
    {
     "name": "stderr",
     "output_type": "stream",
     "text": [
      "/Users/jianglu/opt/anaconda3/lib/python3.8/site-packages/gensim/similarities/__init__.py:15: UserWarning: The gensim.similarities.levenshtein submodule is disabled, because the optional Levenshtein package <https://pypi.org/project/python-Levenshtein/> is unavailable. Install Levenhstein (e.g. `pip install python-Levenshtein`) to suppress this warning.\n",
      "  warnings.warn(msg)\n"
     ]
    }
   ],
   "source": [
    "import logging\n",
    "import pandas as pd\n",
    "import numpy as np\n",
    "from numpy import random\n",
    "import gensim\n",
    "import nltk\n",
    "from sklearn.model_selection import train_test_split\n",
    "from sklearn.feature_extraction.text import CountVectorizer, TfidfVectorizer\n",
    "from sklearn.metrics import accuracy_score, confusion_matrix\n",
    "import matplotlib.pyplot as plt\n",
    "from nltk.corpus import stopwords\n",
    "import re\n",
    "from bs4 import BeautifulSoup\n",
    "%matplotlib inline"
   ]
  },
  {
   "cell_type": "code",
   "execution_count": 6,
   "metadata": {},
   "outputs": [],
   "source": [
    "df = data.copy()"
   ]
  },
  {
   "cell_type": "code",
   "execution_count": 7,
   "metadata": {},
   "outputs": [
    {
     "name": "stdout",
     "output_type": "stream",
     "text": [
      "<class 'pandas.core.frame.DataFrame'>\n",
      "RangeIndex: 6608 entries, 0 to 6607\n",
      "Data columns (total 8 columns):\n",
      " #   Column           Non-Null Count  Dtype \n",
      "---  ------           --------------  ----- \n",
      " 0   Topic Title      6608 non-null   object\n",
      " 1   Category         6608 non-null   object\n",
      " 2   Tags             6608 non-null   object\n",
      " 3   Author           6608 non-null   object\n",
      " 4   Leading Comment  6601 non-null   object\n",
      " 5   Other Comments   6608 non-null   object\n",
      " 6   Likes            6607 non-null   object\n",
      " 7   Views            6607 non-null   object\n",
      "dtypes: object(8)\n",
      "memory usage: 413.1+ KB\n"
     ]
    }
   ],
   "source": [
    "df.info()"
   ]
  },
  {
   "cell_type": "code",
   "execution_count": 8,
   "metadata": {},
   "outputs": [
    {
     "data": {
      "text/plain": [
       "0    system About the Buying/Selling category Debat...\n",
       "1    wolyrobb New Car Salesperson Commissions I’ve ...\n",
       "2    Whitey Best used car to buy for long road trip...\n",
       "3    texases Honda Element any good? Are these any ...\n",
       "4    galant 1993 4Runner vs 2011 Mazda3 Hatch I’m c...\n",
       "Name: post, dtype: object"
      ]
     },
     "execution_count": 8,
     "metadata": {},
     "output_type": "execute_result"
    }
   ],
   "source": [
    "df['post'] = df[\"Author\"] + ' ' + df['Topic Title'] + ' ' + df['Leading Comment'] + ' ' + df['Other Comments'] + ' ' + df['Tags']\n",
    "df['post'].head()"
   ]
  },
  {
   "cell_type": "code",
   "execution_count": 9,
   "metadata": {},
   "outputs": [
    {
     "name": "stdout",
     "output_type": "stream",
     "text": [
      "4300861\n"
     ]
    }
   ],
   "source": [
    "print(df['post'].apply(lambda x: len(str(x).split(' '))).sum())"
   ]
  },
  {
   "cell_type": "code",
   "execution_count": 10,
   "metadata": {},
   "outputs": [
    {
     "data": {
      "text/plain": [
       "array(['Buying/Selling', 'Safety', 'Driving/Drivers', 'Site Feedback',\n",
       "       'Auto Type/Class', 'Maintenance/Repairs', 'The Show',\n",
       "       ' 1990. My husband and I rented a spiffy new Cadillac in Indiana with plans to pick up my parents in Erie',\n",
       "       'Power/Fuel', 'General Discussion', 'Ask Someone Who Owns One'],\n",
       "      dtype=object)"
      ]
     },
     "execution_count": 10,
     "metadata": {},
     "output_type": "execute_result"
    }
   ],
   "source": [
    "df['Category'].unique()"
   ]
  },
  {
   "cell_type": "code",
   "execution_count": 11,
   "metadata": {},
   "outputs": [],
   "source": [
    "df = df[df.Category != ' 1990. My husband and I rented a spiffy new Cadillac in Indiana with plans to pick up my parents in Erie']"
   ]
  },
  {
   "cell_type": "code",
   "execution_count": 12,
   "metadata": {},
   "outputs": [
    {
     "data": {
      "text/plain": [
       "array(['Buying/Selling', 'Safety', 'Driving/Drivers', 'Site Feedback',\n",
       "       'Auto Type/Class', 'Maintenance/Repairs', 'The Show', 'Power/Fuel',\n",
       "       'General Discussion', 'Ask Someone Who Owns One'], dtype=object)"
      ]
     },
     "execution_count": 12,
     "metadata": {},
     "output_type": "execute_result"
    }
   ],
   "source": [
    "df['Category'].unique()"
   ]
  },
  {
   "cell_type": "code",
   "execution_count": 13,
   "metadata": {},
   "outputs": [
    {
     "data": {
      "text/plain": [
       "The Show                    2024\n",
       "Maintenance/Repairs         1500\n",
       "Power/Fuel                  1315\n",
       "General Discussion           900\n",
       "Auto Type/Class              258\n",
       "Safety                       189\n",
       "Buying/Selling               169\n",
       "Driving/Drivers              159\n",
       "Site Feedback                 90\n",
       "Ask Someone Who Owns One       3\n",
       "Name: Category, dtype: int64"
      ]
     },
     "execution_count": 13,
     "metadata": {},
     "output_type": "execute_result"
    }
   ],
   "source": [
    "df.Category.value_counts()"
   ]
  },
  {
   "cell_type": "code",
   "execution_count": 14,
   "metadata": {},
   "outputs": [],
   "source": [
    "df.loc[df.Category == 'Buying/Selling', 'Category'] = \"Buying/Selling & Ask Someone Who Owns One\"\n",
    "df.loc[df.Category == 'Ask Someone Who Owns One', 'Category'] = \"Buying/Selling & Ask Someone Who Owns One\""
   ]
  },
  {
   "cell_type": "code",
   "execution_count": 15,
   "metadata": {},
   "outputs": [
    {
     "data": {
      "text/plain": [
       "The Show                                     2024\n",
       "Maintenance/Repairs                          1500\n",
       "Power/Fuel                                   1315\n",
       "General Discussion                            900\n",
       "Auto Type/Class                               258\n",
       "Safety                                        189\n",
       "Buying/Selling & Ask Someone Who Owns One     172\n",
       "Driving/Drivers                               159\n",
       "Site Feedback                                  90\n",
       "Name: Category, dtype: int64"
      ]
     },
     "execution_count": 15,
     "metadata": {},
     "output_type": "execute_result"
    }
   ],
   "source": [
    "df.Category.value_counts()"
   ]
  },
  {
   "cell_type": "code",
   "execution_count": 16,
   "metadata": {
    "scrolled": true
   },
   "outputs": [
    {
     "data": {
      "text/plain": [
       "array(['Buying/Selling & Ask Someone Who Owns One', 'Safety',\n",
       "       'Driving/Drivers', 'Site Feedback', 'Auto Type/Class',\n",
       "       'Maintenance/Repairs', 'The Show', 'Power/Fuel',\n",
       "       'General Discussion'], dtype=object)"
      ]
     },
     "execution_count": 16,
     "metadata": {},
     "output_type": "execute_result"
    }
   ],
   "source": [
    "df['Category'].unique()"
   ]
  },
  {
   "cell_type": "code",
   "execution_count": 17,
   "metadata": {},
   "outputs": [
    {
     "data": {
      "text/plain": [
       "7"
      ]
     },
     "execution_count": 17,
     "metadata": {},
     "output_type": "execute_result"
    }
   ],
   "source": [
    "df[\"post\"].isnull().sum()"
   ]
  },
  {
   "cell_type": "code",
   "execution_count": 18,
   "metadata": {},
   "outputs": [],
   "source": [
    "df = df[df['post'].notna()]"
   ]
  },
  {
   "cell_type": "code",
   "execution_count": 19,
   "metadata": {},
   "outputs": [
    {
     "data": {
      "text/plain": [
       "0"
      ]
     },
     "execution_count": 19,
     "metadata": {},
     "output_type": "execute_result"
    }
   ],
   "source": [
    "df[\"post\"].isnull().sum()"
   ]
  },
  {
   "cell_type": "code",
   "execution_count": 20,
   "metadata": {},
   "outputs": [
    {
     "data": {
      "text/plain": [
       "0    system About the Buying/Selling category Debat...\n",
       "1    wolyrobb New Car Salesperson Commissions I’ve ...\n",
       "2    Whitey Best used car to buy for long road trip...\n",
       "3    texases Honda Element any good? Are these any ...\n",
       "4    galant 1993 4Runner vs 2011 Mazda3 Hatch I’m c...\n",
       "Name: post, dtype: object"
      ]
     },
     "execution_count": 20,
     "metadata": {},
     "output_type": "execute_result"
    }
   ],
   "source": [
    "df[\"post\"].head()"
   ]
  },
  {
   "cell_type": "code",
   "execution_count": 21,
   "metadata": {},
   "outputs": [
    {
     "data": {
      "image/png": "[encoded data removed]",
      "text/plain": [
       "<Figure size 720x288 with 1 Axes>"
      ]
     },
     "metadata": {
      "needs_background": "light"
     },
     "output_type": "display_data"
    }
   ],
   "source": [
    "my_categories = ['Buying/Selling & Ask Someone Who Owns One', 'Safety',\n",
    "       'Driving/Drivers', 'Site Feedback', 'Auto Type/Class',\n",
    "       'Maintenance/Repairs', 'The Show', 'Power/Fuel',\n",
    "       'General Discussion']\n",
    "plt.figure(figsize=(10,4))\n",
    "df.Category.value_counts().plot(kind='bar');"
   ]
  },
  {
   "cell_type": "code",
   "execution_count": 22,
   "metadata": {},
   "outputs": [
    {
     "name": "stdout",
     "output_type": "stream",
     "text": [
      "Beancounter Selling the leased car Hi,\n",
      "I am not familiar with the process of getting out of a lease early. So my current car lease is $600/mo and I have paid 16 mo of it, so 20 more months remaining, which I still owe $12000 to the dealer.\n",
      "Carvarna offers $50000 - 12000 (lease payoff amount) = $38000 would be the payment to me.\n",
      "Kelly Blue Book Instant Cash offer is $49500 because it didn’t ask me if my car was own or lease.\n",
      "Let’s say the residual value of the leased car is $32000, plus $12000 I still owe, I would have to pay the current dealer $47000 to buyout. I could accept Kelly’s offer, take the $49500, they get the car. I pay back the current dealer and make $2500.\n",
      "But I don’t understand why Carvarna deducts the $12000, that they would take over the lease? All i need to do is to take their $38000 net offer, pay the current dealer the residual value of the car, and make $6000? i am so confused. Any idea?\n",
      "Thank you ['You have a $12,000 lease payoff, Plus the $47,000 cash buyout = $59,000 still owed on the car.\\nYou take Kelly’s cash offer of $49,500, you still owe the dealer $9,500.\\nYou loose $9,500 and have no car.\\nCarvana pays you $38,000 and pays the dealer $12,000 lease payoff.\\nYou take the $38,000 from Carvana, and pay that to the dealer.\\nYou still owe the dealer $9,000\\nEither way you’re out $9,000 + and have no car', 'From other forums it appears that if you take the Carvana offer they would need the exact payoff amount and would then cut you a check for the difference. At least that’s what’s happened in the past.', 'Wouldn’t make more sense to talk to the leasing company and find out just what your obligations are ?', 'If you want to get out of your lease, a lease transfer is a very common practice these days.\\nleasetrader.com 2', '\\n\\n\\n Ben-C:\\n\\nBut I don’t understand why Carvarna deducts the $12000, that they would take over the lease?\\n\\n\\nBecause when you signed the lease you agreed to pay the leasing company $600/month for 36 months and a total of $12,000 in lease payments hasn’t yet been paid.', 'Thanks everyone’s response. Sorry, i made a mistake in my original post, it would be $44000.\\nBut anyways, I just found my lease agreement. It shows that the purchase option at the end of the lease will be $36000. As of today, I still have 20 payments or $12000 remaining. So $12000 payoff + the purchase option price $36000, the total cash buyout price should be $48000, right? I am confused why you added the $12000 payoff to the total $47000 ($48000 actually).\\nThank you', '\\n\\n\\n Beancounter:\\n\\nBecause when you signed the lease you agreed to pay the leasing company $600/month for 36 months and a total of $12,000 in lease payments hasn’t yet been paid.\\n\\n\\nThis part I understand. I was confused why they would deduct it if they are not going to take over the lease. If the car they think would be worth $50000, that’s how much it’s worth right? So it looks like it would make more sense to just enter $0 as the payout amount, treat it as I own the car. Take their offer, they get the car after I use their offer to pay off the payoff+buyout amount to the dealer. that’s it right? Thanks', '\\n\\n\\n Ben-C:\\n\\ntreat it as I own the car. Take their offer, they get the car. I pay off the payoff+buyout amount to the dealer. that’s it right? Thanks\\n\\n\\nYou do not own this vehicle what ever it is . They will not give you money to payoff anything . They will send it to the leasing company and there might be some left over for you but I doubt it.  I say again , you need to contact the leasing company to see what your options really are . People on a forum can make all kinds of suggestions but it will mean nothing if that is not what your leasing company wants.', 'Thank you, i have the feeling that i am starting to understand', 'If you think it’s worth 50k then sell it yourself. A dealer is not going to give you $50k.', 'It’s an easy process. Find out what your lease buyout is for today. It doesn’t matter what payments are left. You get to keep the difference between what you offered and your buyout. Many people are making a huge profit by selling their leased vehicles currently.', '\\n\\n\\n TXdealer:\\n\\nIt’s an easy process. Find out what your lease buyout is for today. It doesn’t matter what payments are left. You get to keep the difference between what you offered and your buyout. Many people are making a huge profit by selling their leased vehicles currently.\\n\\n\\nIts a short term 3 year lease he is talking about and he wants to get out of it.His best option will be to post this vehicule on leasetrader.com', 'I’m with @TXdealer - if the OP can sell his car for more than the lease company would require, today, to buy out the lease, then that’s what I would do.', 'Normally that would be good advice, however used cars have gone up dramatically in value and are currently worth substantially more then residual/buyout values. The only way to capture this is to sell/trade the vehicle outside of the normal lease turn in process.', 'Maybe it’s a real desirable rig?', 'Most all clean late model cars are ‘real desirable’ right now, there’s a shortage of new cars and car rental companies have resorted to buying used cars to restock their fleets.  So prices are UP.', 'one thing to keep in mind. some lease companies charge a fee for early termination and some a purchase option fee.', 'As Volvo-V70 pointed out, you don’t own the car, you’re just renting it, and at the end of the lease you have the option to buy it at the agreed price.\\nBefore you can sell the car you have to own it, which means completing your lease obligation of $12,000 and buying it from the lease company for the agreed price.\\nSo if Carvana is offering you $50,000 for the car, they would pay the lease company the $12,000 remaining on the lease, the agreed end of lease purchase price and deduct these amounts from the $50,000 offer, giving you only what remains.\\nBut the best advice is to carefully review your lease documents and discuss any plans with your leasing company before making any further plans.', 'You do not have the right to sell the car until the lien is paid off.Carvanna’s offer includes them paying off the lien.  Nobody is going to give you 50,000 dollars and trust you to pay off the lien. Don;t forget that offer is based on the cars condition being exactly as described and they mave disagree with your opinion of the condition when they examine the car.'] []\n",
      "Category: Buying/Selling & Ask Someone Who Owns One\n"
     ]
    }
   ],
   "source": [
    "def print_plot(index):\n",
    "    example = df[df.index == index][['post', 'Category']].values[0]\n",
    "    if len(example) > 0:\n",
    "        print(example[0])\n",
    "        print('Category:', example[1])\n",
    "print_plot(10)"
   ]
  },
  {
   "cell_type": "markdown",
   "metadata": {},
   "source": [
    "Text Pre-processing"
   ]
  },
  {
   "cell_type": "code",
   "execution_count": 23,
   "metadata": {},
   "outputs": [],
   "source": [
    "test_df = df.copy()\n",
    "test_df['post'] = test_df['post'].astype(str)"
   ]
  },
  {
   "cell_type": "code",
   "execution_count": 24,
   "metadata": {},
   "outputs": [],
   "source": [
    "REPLACE_BY_SPACE_RE = re.compile('[/(){}\\[\\]\\'\\“\\”\\’\\|@,;]')\n",
    "BAD_SYMBOLS_RE = re.compile('[^0-9a-z #+_]')\n",
    "#STOPWORDS = set(stopwords.words('english'))\n",
    "\n",
    "def clean_text(text):\n",
    "    \"\"\"\n",
    "        text: a string\n",
    "        \n",
    "        return: modified initial string\n",
    "    \"\"\"\n",
    "    text = re.sub(r'^https?:\\/\\/.*[\\r\\n]*', '', text, flags=re.MULTILINE)\n",
    "    text = BeautifulSoup(text, \"lxml\").text # HTML decoding\n",
    "    text = text.lower() # lowercase text\n",
    "    text = REPLACE_BY_SPACE_RE.sub(' ', text)# replace REPLACE_BY_SPACE_RE symbols by space in text\n",
    "#     text = BAD_SYMBOLS_RE.sub('', text) # delete symbols which are in BAD_SYMBOLS_RE from text\n",
    "    #text = ''.join(word for word in text if word not in punct)  # remove punctuation\n",
    "    #text = ' '.join(word for word in text.split() if word not in STOPWORDS) # delete stopwors from text\n",
    "    return text\n",
    "    \n",
    "test_df['post'] = test_df['post'].apply(clean_text)"
   ]
  },
  {
   "cell_type": "code",
   "execution_count": 25,
   "metadata": {},
   "outputs": [
    {
     "name": "stdout",
     "output_type": "stream",
     "text": [
      "beancounter selling the leased car hi \n",
      "i am not familiar with the process of getting out of a lease early. so my current car lease is $600 mo and i have paid 16 mo of it  so 20 more months remaining  which i still owe $12000 to the dealer.\n",
      "carvarna offers $50000 - 12000  lease payoff amount  = $38000 would be the payment to me.\n",
      "kelly blue book instant cash offer is $49500 because it didn t ask me if my car was own or lease.\n",
      "let s say the residual value of the leased car is $32000  plus $12000 i still owe  i would have to pay the current dealer $47000 to buyout. i could accept kelly s offer  take the $49500  they get the car. i pay back the current dealer and make $2500.\n",
      "but i don t understand why carvarna deducts the $12000  that they would take over the lease? all i need to do is to take their $38000 net offer  pay the current dealer the residual value of the car  and make $6000? i am so confused. any idea?\n",
      "thank you   you have a $12 000 lease payoff  plus the $47 000 cash buyout = $59 000 still owed on the car.\\nyou take kelly s cash offer of $49 500  you still owe the dealer $9 500.\\nyou loose $9 500 and have no car.\\ncarvana pays you $38 000 and pays the dealer $12 000 lease payoff.\\nyou take the $38 000 from carvana  and pay that to the dealer.\\nyou still owe the dealer $9 000\\neither way you re out $9 000 + and have no car    from other forums it appears that if you take the carvana offer they would need the exact payoff amount and would then cut you a check for the difference. at least that s what s happened in the past.    wouldn t make more sense to talk to the leasing company and find out just what your obligations are ?    if you want to get out of your lease  a lease transfer is a very common practice these days.\\nleasetrader.com 2    \\n\\n\\n ben-c:\\n\\nbut i don t understand why carvarna deducts the $12000  that they would take over the lease?\\n\\n\\nbecause when you signed the lease you agreed to pay the leasing company $600 month for 36 months and a total of $12 000 in lease payments hasn t yet been paid.    thanks everyone s response. sorry  i made a mistake in my original post  it would be $44000.\\nbut anyways  i just found my lease agreement. it shows that the purchase option at the end of the lease will be $36000. as of today  i still have 20 payments or $12000 remaining. so $12000 payoff + the purchase option price $36000  the total cash buyout price should be $48000  right? i am confused why you added the $12000 payoff to the total $47000  $48000 actually .\\nthank you    \\n\\n\\n beancounter:\\n\\nbecause when you signed the lease you agreed to pay the leasing company $600 month for 36 months and a total of $12 000 in lease payments hasn t yet been paid.\\n\\n\\nthis part i understand. i was confused why they would deduct it if they are not going to take over the lease. if the car they think would be worth $50000  that s how much it s worth right? so it looks like it would make more sense to just enter $0 as the payout amount  treat it as i own the car. take their offer  they get the car after i use their offer to pay off the payoff+buyout amount to the dealer. that s it right? thanks    \\n\\n\\n ben-c:\\n\\ntreat it as i own the car. take their offer  they get the car. i pay off the payoff+buyout amount to the dealer. that s it right? thanks\\n\\n\\nyou do not own this vehicle what ever it is . they will not give you money to payoff anything . they will send it to the leasing company and there might be some left over for you but i doubt it.  i say again   you need to contact the leasing company to see what your options really are . people on a forum can make all kinds of suggestions but it will mean nothing if that is not what your leasing company wants.    thank you  i have the feeling that i am starting to understand    if you think it s worth 50k then sell it yourself. a dealer is not going to give you $50k.    it s an easy process. find out what your lease buyout is for today. it doesn t matter what payments are left. you get to keep the difference between what you offered and your buyout. many people are making a huge profit by selling their leased vehicles currently.    \\n\\n\\n txdealer:\\n\\nit s an easy process. find out what your lease buyout is for today. it doesn t matter what payments are left. you get to keep the difference between what you offered and your buyout. many people are making a huge profit by selling their leased vehicles currently.\\n\\n\\nits a short term 3 year lease he is talking about and he wants to get out of it.his best option will be to post this vehicule on leasetrader.com    i m with  txdealer - if the op can sell his car for more than the lease company would require  today  to buy out the lease  then that s what i would do.    normally that would be good advice  however used cars have gone up dramatically in value and are currently worth substantially more then residual buyout values. the only way to capture this is to sell trade the vehicle outside of the normal lease turn in process.    maybe it s a real desirable rig?    most all clean late model cars are ‘real desirable  right now  there s a shortage of new cars and car rental companies have resorted to buying used cars to restock their fleets.  so prices are up.    one thing to keep in mind. some lease companies charge a fee for early termination and some a purchase option fee.    as volvo-v70 pointed out  you don t own the car  you re just renting it  and at the end of the lease you have the option to buy it at the agreed price.\\nbefore you can sell the car you have to own it  which means completing your lease obligation of $12 000 and buying it from the lease company for the agreed price.\\nso if carvana is offering you $50 000 for the car  they would pay the lease company the $12 000 remaining on the lease  the agreed end of lease purchase price and deduct these amounts from the $50 000 offer  giving you only what remains.\\nbut the best advice is to carefully review your lease documents and discuss any plans with your leasing company before making any further plans.    you do not have the right to sell the car until the lien is paid off.carvanna s offer includes them paying off the lien.  nobody is going to give you 50 000 dollars and trust you to pay off the lien. don t forget that offer is based on the cars condition being exactly as described and they mave disagree with your opinion of the condition when they examine the car.     \n",
      "Category: Buying/Selling & Ask Someone Who Owns One\n"
     ]
    }
   ],
   "source": [
    "def test_print_plot(index):\n",
    "    example = test_df[test_df.index == index][['post', 'Category']].values[0]\n",
    "    if len(example) > 0:\n",
    "        print(example[0])\n",
    "        print('Category:', example[1])\n",
    "test_print_plot(10)"
   ]
  },
  {
   "cell_type": "code",
   "execution_count": 26,
   "metadata": {},
   "outputs": [
    {
     "data": {
      "text/plain": [
       "4794196"
      ]
     },
     "execution_count": 26,
     "metadata": {},
     "output_type": "execute_result"
    }
   ],
   "source": [
    "test_df['post'].apply(lambda x: len(x.split(' '))).sum()"
   ]
  },
  {
   "cell_type": "code",
   "execution_count": 27,
   "metadata": {},
   "outputs": [
    {
     "name": "stdout",
     "output_type": "stream",
     "text": [
      "lost info 479016\n"
     ]
    }
   ],
   "source": [
    "print(\"lost info\",4765518-4286502)"
   ]
  },
  {
   "cell_type": "markdown",
   "metadata": {},
   "source": [
    "Modeling the data"
   ]
  },
  {
   "cell_type": "code",
   "execution_count": 28,
   "metadata": {},
   "outputs": [],
   "source": [
    "X = test_df.post\n",
    "y = test_df.Category\n",
    "X_train, X_test, y_train, y_test = train_test_split(X, y, test_size=0.2, random_state = 42)"
   ]
  },
  {
   "cell_type": "code",
   "execution_count": 29,
   "metadata": {},
   "outputs": [
    {
     "data": {
      "text/plain": [
       "1806    71050 2015 volkswagen gti - warnings i am driv...\n",
       "5312    shreed electrical problem on 93 probe my son s...\n",
       "6154    barkydog covid 19 pick up and delivery fee we ...\n",
       "2134    victor29 2020 hyundai santa fe has a really no...\n",
       "592     volvo-v70 fixing a mistake on the ratings page...\n",
       "Name: post, dtype: object"
      ]
     },
     "execution_count": 29,
     "metadata": {},
     "output_type": "execute_result"
    }
   ],
   "source": [
    "X_train.head()"
   ]
  },
  {
   "cell_type": "code",
   "execution_count": 30,
   "metadata": {},
   "outputs": [
    {
     "data": {
      "text/plain": [
       "1806    Maintenance/Repairs\n",
       "5312             Power/Fuel\n",
       "6154     General Discussion\n",
       "2134    Maintenance/Repairs\n",
       "592           Site Feedback\n",
       "Name: Category, dtype: object"
      ]
     },
     "execution_count": 30,
     "metadata": {},
     "output_type": "execute_result"
    }
   ],
   "source": [
    "y_train.head()"
   ]
  },
  {
   "cell_type": "markdown",
   "metadata": {},
   "source": [
    "## Naive Bayes Classifier for Multinomial Models\n",
    "CountVectorizer + TF-IDFTransformer + MultinomialNB"
   ]
  },
  {
   "cell_type": "code",
   "execution_count": 31,
   "metadata": {},
   "outputs": [
    {
     "name": "stdout",
     "output_type": "stream",
     "text": [
      "accuracy 0.5416666666666666\n",
      "                                           precision    recall  f1-score   support\n",
      "\n",
      "Buying/Selling & Ask Someone Who Owns One       0.00      0.00      0.00        48\n",
      "                                   Safety       0.00      0.00      0.00        39\n",
      "                          Driving/Drivers       0.00      0.00      0.00        36\n",
      "                            Site Feedback       1.00      0.01      0.01       183\n",
      "                          Auto Type/Class       0.73      0.56      0.64       286\n",
      "                      Maintenance/Repairs       0.78      0.70      0.74       260\n",
      "                                 The Show       0.00      0.00      0.00        50\n",
      "                               Power/Fuel       0.00      0.00      0.00        18\n",
      "                       General Discussion       0.43      0.93      0.59       400\n",
      "\n",
      "                                 accuracy                           0.54      1320\n",
      "                                macro avg       0.33      0.24      0.22      1320\n",
      "                             weighted avg       0.58      0.54      0.46      1320\n",
      "\n"
     ]
    },
    {
     "name": "stderr",
     "output_type": "stream",
     "text": [
      "/Users/jianglu/opt/anaconda3/lib/python3.8/site-packages/sklearn/metrics/_classification.py:1221: UndefinedMetricWarning: Precision and F-score are ill-defined and being set to 0.0 in labels with no predicted samples. Use `zero_division` parameter to control this behavior.\n",
      "  _warn_prf(average, modifier, msg_start, len(result))\n"
     ]
    }
   ],
   "source": [
    "from sklearn.naive_bayes import MultinomialNB\n",
    "from sklearn.pipeline import Pipeline\n",
    "from sklearn.feature_extraction.text import TfidfTransformer\n",
    "from sklearn.metrics import classification_report\n",
    "\n",
    "def Naive_Bayes_Classifier(X_train, X_test, y_train, y_test):\n",
    "    nb = Pipeline([('vect', CountVectorizer()),\n",
    "                   ('tfidf', TfidfTransformer()),\n",
    "                   ('clf', MultinomialNB()),\n",
    "                  ])\n",
    "    nb.fit(X_train, y_train)\n",
    "\n",
    "    y_pred = nb.predict(X_test)\n",
    "\n",
    "    print('accuracy %s' % accuracy_score(y_pred, y_test))\n",
    "    \n",
    "    print(classification_report(y_test, y_pred,target_names=my_categories))\n",
    "    return accuracy_score(y_pred, y_test)\n",
    "res1311 = Naive_Bayes_Classifier(X_train, X_test, y_train, y_test)"
   ]
  },
  {
   "cell_type": "markdown",
   "metadata": {},
   "source": [
    "## Linear Support Vector Machine\n",
    "CountVectorizer + TF-IDFTransformer + SGDClassifier"
   ]
  },
  {
   "cell_type": "code",
   "execution_count": 32,
   "metadata": {},
   "outputs": [
    {
     "name": "stdout",
     "output_type": "stream",
     "text": [
      "accuracy 0.6765151515151515\n",
      "                                           precision    recall  f1-score   support\n",
      "\n",
      "Buying/Selling & Ask Someone Who Owns One       0.83      0.40      0.54        48\n",
      "                                   Safety       0.50      0.10      0.17        39\n",
      "                          Driving/Drivers       0.72      0.64      0.68        36\n",
      "                            Site Feedback       0.73      0.21      0.32       183\n",
      "                          Auto Type/Class       0.64      0.79      0.71       286\n",
      "                      Maintenance/Repairs       0.69      0.92      0.79       260\n",
      "                                 The Show       0.67      0.08      0.14        50\n",
      "                               Power/Fuel       1.00      0.33      0.50        18\n",
      "                       General Discussion       0.67      0.83      0.74       400\n",
      "\n",
      "                                 accuracy                           0.68      1320\n",
      "                                macro avg       0.72      0.48      0.51      1320\n",
      "                             weighted avg       0.68      0.68      0.64      1320\n",
      "\n"
     ]
    }
   ],
   "source": [
    "from sklearn.linear_model import SGDClassifier\n",
    "\n",
    "def Linear_Support_Vector(X_train, X_test, y_train, y_test):\n",
    "    sgd = Pipeline([('vect', CountVectorizer()),\n",
    "                    ('tfidf', TfidfTransformer()),\n",
    "                    ('clf', SGDClassifier(loss='hinge', penalty='l2',alpha=1e-3, random_state=42, max_iter=5, tol=None)),\n",
    "                   ])\n",
    "    sgd.fit(X_train, y_train)\n",
    "\n",
    "    y_pred = sgd.predict(X_test)\n",
    "\n",
    "    print('accuracy %s' % accuracy_score(y_pred, y_test))\n",
    "    print(classification_report(y_test, y_pred,target_names=my_categories))\n",
    "    return accuracy_score(y_pred, y_test)\n",
    "res1321 = Linear_Support_Vector(X_train, X_test, y_train, y_test)"
   ]
  },
  {
   "cell_type": "markdown",
   "metadata": {},
   "source": [
    "## Logistic Regression\n",
    "CountVectorizer + TF-IDFTransformer + Logistic Regression"
   ]
  },
  {
   "cell_type": "code",
   "execution_count": 33,
   "metadata": {},
   "outputs": [
    {
     "name": "stderr",
     "output_type": "stream",
     "text": [
      "/Users/jianglu/opt/anaconda3/lib/python3.8/site-packages/sklearn/linear_model/_logistic.py:762: ConvergenceWarning: lbfgs failed to converge (status=1):\n",
      "STOP: TOTAL NO. of ITERATIONS REACHED LIMIT.\n",
      "\n",
      "Increase the number of iterations (max_iter) or scale the data as shown in:\n",
      "    https://scikit-learn.org/stable/modules/preprocessing.html\n",
      "Please also refer to the documentation for alternative solver options:\n",
      "    https://scikit-learn.org/stable/modules/linear_model.html#logistic-regression\n",
      "  n_iter_i = _check_optimize_result(\n"
     ]
    },
    {
     "name": "stdout",
     "output_type": "stream",
     "text": [
      "accuracy 0.7772727272727272\n",
      "                                           precision    recall  f1-score   support\n",
      "\n",
      "Buying/Selling & Ask Someone Who Owns One       0.83      0.62      0.71        48\n",
      "                                   Safety       0.59      0.49      0.54        39\n",
      "                          Driving/Drivers       0.73      0.75      0.74        36\n",
      "                            Site Feedback       0.62      0.56      0.59       183\n",
      "                          Auto Type/Class       0.74      0.82      0.78       286\n",
      "                      Maintenance/Repairs       0.82      0.88      0.85       260\n",
      "                                 The Show       0.74      0.50      0.60        50\n",
      "                               Power/Fuel       0.85      0.61      0.71        18\n",
      "                       General Discussion       0.86      0.87      0.86       400\n",
      "\n",
      "                                 accuracy                           0.78      1320\n",
      "                                macro avg       0.75      0.68      0.71      1320\n",
      "                             weighted avg       0.77      0.78      0.77      1320\n",
      "\n"
     ]
    }
   ],
   "source": [
    "from sklearn.linear_model import LogisticRegression\n",
    "\n",
    "def Logistic_Regression(X_train, X_test, y_train, y_test):\n",
    "    logreg = Pipeline([('vect', CountVectorizer()),\n",
    "                    ('tfidf', TfidfTransformer()),\n",
    "                    ('clf', LogisticRegression(n_jobs=1, C=1e5)),\n",
    "                   ])\n",
    "    logreg.fit(X_train, y_train)\n",
    "\n",
    "    y_pred = logreg.predict (X_test)\n",
    "\n",
    "    print('accuracy %s' % accuracy_score(y_pred, y_test))\n",
    "    print(classification_report(y_test, y_pred,target_names=my_categories))\n",
    "    return accuracy_score(y_pred, y_test)\n",
    "res1331 = Logistic_Regression(X_train, X_test, y_train, y_test)"
   ]
  },
  {
   "cell_type": "markdown",
   "metadata": {},
   "source": [
    "Decision Tree\n",
    "CountVectorizer + TF-IDFTransformer + DecisionTreeClassifier"
   ]
  },
  {
   "cell_type": "markdown",
   "metadata": {},
   "source": [
    "## Decision Tree\n",
    "CountVectorizer + TF-IDFTransformer + DecisionTreeClassifier"
   ]
  },
  {
   "cell_type": "code",
   "execution_count": 34,
   "metadata": {},
   "outputs": [
    {
     "name": "stdout",
     "output_type": "stream",
     "text": [
      "accuracy 0.6545454545454545\n",
      "                                           precision    recall  f1-score   support\n",
      "\n",
      "Buying/Selling & Ask Someone Who Owns One       0.51      0.65      0.57        48\n",
      "                                   Safety       0.44      0.31      0.36        39\n",
      "                          Driving/Drivers       0.65      0.72      0.68        36\n",
      "                            Site Feedback       0.46      0.44      0.45       183\n",
      "                          Auto Type/Class       0.63      0.60      0.62       286\n",
      "                      Maintenance/Repairs       0.81      0.84      0.82       260\n",
      "                                 The Show       0.49      0.36      0.41        50\n",
      "                               Power/Fuel       0.11      0.11      0.11        18\n",
      "                       General Discussion       0.73      0.76      0.74       400\n",
      "\n",
      "                                 accuracy                           0.65      1320\n",
      "                                macro avg       0.54      0.53      0.53      1320\n",
      "                             weighted avg       0.65      0.65      0.65      1320\n",
      "\n"
     ]
    }
   ],
   "source": [
    "from sklearn.tree import DecisionTreeClassifier\n",
    "\n",
    "def Decision_Tree(X_train, X_test, y_train, y_test):\n",
    "    dtree = Pipeline([('vect', CountVectorizer()),\n",
    "                    ('tfidf', TfidfTransformer()),\n",
    "                    ('clf', DecisionTreeClassifier(random_state=0)),\n",
    "                   ])\n",
    "    dtree.fit(X_train, y_train)\n",
    "\n",
    "    y_pred = dtree.predict (X_test)\n",
    "\n",
    "    print('accuracy %s' % accuracy_score(y_pred, y_test))\n",
    "    print(classification_report(y_test, y_pred,target_names=my_categories))\n",
    "    return accuracy_score(y_pred, y_test)\n",
    "res1341 = Decision_Tree(X_train, X_test, y_train, y_test)"
   ]
  },
  {
   "cell_type": "markdown",
   "metadata": {},
   "source": [
    "## Results\n",
    "Results of the previously trained models"
   ]
  },
  {
   "cell_type": "code",
   "execution_count": 35,
   "metadata": {},
   "outputs": [
    {
     "data": {
      "text/html": [
       "<div>\n",
       "<style scoped>\n",
       "    .dataframe tbody tr th:only-of-type {\n",
       "        vertical-align: middle;\n",
       "    }\n",
       "\n",
       "    .dataframe tbody tr th {\n",
       "        vertical-align: top;\n",
       "    }\n",
       "\n",
       "    .dataframe thead th {\n",
       "        text-align: right;\n",
       "    }\n",
       "</style>\n",
       "<table border=\"1\" class=\"dataframe\">\n",
       "  <thead>\n",
       "    <tr style=\"text-align: right;\">\n",
       "      <th></th>\n",
       "      <th>Model</th>\n",
       "      <th>Accuracy</th>\n",
       "    </tr>\n",
       "  </thead>\n",
       "  <tbody>\n",
       "    <tr>\n",
       "      <th>0</th>\n",
       "      <td>Naive Bayes MultinomialNB</td>\n",
       "      <td>0.541667</td>\n",
       "    </tr>\n",
       "    <tr>\n",
       "      <th>3</th>\n",
       "      <td>Decision Tree</td>\n",
       "      <td>0.654545</td>\n",
       "    </tr>\n",
       "    <tr>\n",
       "      <th>1</th>\n",
       "      <td>Linear SVM</td>\n",
       "      <td>0.676515</td>\n",
       "    </tr>\n",
       "    <tr>\n",
       "      <th>2</th>\n",
       "      <td>Logistic Regression</td>\n",
       "      <td>0.777273</td>\n",
       "    </tr>\n",
       "  </tbody>\n",
       "</table>\n",
       "</div>"
      ],
      "text/plain": [
       "                       Model  Accuracy\n",
       "0  Naive Bayes MultinomialNB  0.541667\n",
       "3              Decision Tree  0.654545\n",
       "1                 Linear SVM  0.676515\n",
       "2        Logistic Regression  0.777273"
      ]
     },
     "execution_count": 35,
     "metadata": {},
     "output_type": "execute_result"
    }
   ],
   "source": [
    "import pandas as pd\n",
    "\n",
    "results = pd.DataFrame({'Model': ['Naive Bayes MultinomialNB', 'Linear SVM', 'Logistic Regression', 'Decision Tree'],\n",
    "                         'Accuracy': [res1311, res1321, res1331, res1341]})\n",
    "results.set_index('Model')\n",
    "results.sort_values(by='Accuracy')"
   ]
  },
  {
   "cell_type": "markdown",
   "metadata": {},
   "source": [
    "Cross Validation with linear SVM"
   ]
  },
  {
   "cell_type": "code",
   "execution_count": 36,
   "metadata": {},
   "outputs": [],
   "source": [
    "from sklearn.linear_model import SGDClassifier\n",
    "from sklearn.model_selection import cross_val_score\n",
    "import numpy as np\n",
    "\n",
    "def Mean_cv_res_sgd(X_train,y_train):\n",
    "    sgd = Pipeline([('vect', CountVectorizer()),\n",
    "                    ('tfidf', TfidfTransformer()),\n",
    "                    ('clf', SGDClassifier(loss='hinge', penalty='l2',alpha=1e-3, random_state=42, max_iter=5, tol=None)),\n",
    "                   ])\n",
    "    cv_res_sgd = cross_val_score(sgd, X_train, y_train, cv=10)\n",
    "    mean_cv_res_sgd = np.mean(cv_res_sgd)\n",
    "    return (mean_cv_res_sgd)\n",
    "mean_cv_res_sgd = Mean_cv_res_sgd(X_train,y_train)"
   ]
  },
  {
   "cell_type": "code",
   "execution_count": 37,
   "metadata": {},
   "outputs": [
    {
     "name": "stdout",
     "output_type": "stream",
     "text": [
      "0.6825757575757576\n"
     ]
    }
   ],
   "source": [
    "print(mean_cv_res_sgd)"
   ]
  },
  {
   "cell_type": "markdown",
   "metadata": {},
   "source": [
    "## Strategy 2\n",
    "Remove stop words (+ what was done in Strategy 1)"
   ]
  },
  {
   "cell_type": "code",
   "execution_count": 38,
   "metadata": {},
   "outputs": [],
   "source": [
    "# test_df2 = test_df.copy()"
   ]
  },
  {
   "cell_type": "code",
   "execution_count": 39,
   "metadata": {},
   "outputs": [],
   "source": [
    "# REPLACE_BY_SPACE_RE = re.compile('[/(){}\\[\\]\\'\\“\\”\\’\\|@,;]')\n",
    "# BAD_SYMBOLS_RE = re.compile('[^0-9a-z #+_]')\n",
    "# STOPWORDS = set(stopwords.words('english'))\n",
    "\n",
    "# def clean_text(text):\n",
    "#     \"\"\"\n",
    "#         text: a string\n",
    "        \n",
    "#         return: modified initial string\n",
    "#     \"\"\"\n",
    "#     text = BeautifulSoup(text, \"lxml\").text # HTML decoding\n",
    "#     text = text.lower() # lowercase text\n",
    "#     text = REPLACE_BY_SPACE_RE.sub(' ', text) # replace REPLACE_BY_SPACE_RE symbols by space in text\n",
    "#     #text = BAD_SYMBOLS_RE.sub('', text) # delete symbols which are in BAD_SYMBOLS_RE from text\n",
    "#     #text = ''.join(word for word in text if word not in punct)  # remove punctuation\n",
    "#     text = ' '.join(word for word in text.split() if word not in STOPWORDS) # delete stopwors from text\n",
    "#     return text\n",
    "    \n",
    "# test_df2['post'] = test_df2['post'].apply(clean_text)"
   ]
  },
  {
   "cell_type": "code",
   "execution_count": 40,
   "metadata": {},
   "outputs": [],
   "source": [
    "# def test_print_plot(index):\n",
    "#     example = test_df2[test_df2.index == index][['post', 'Category']].values[0]\n",
    "#     if len(example) > 0:\n",
    "#         print(example[0])\n",
    "#         print('Category:', example[1])\n",
    "# test_print_plot(10)"
   ]
  },
  {
   "cell_type": "markdown",
   "metadata": {},
   "source": [
    "## Modeling the data"
   ]
  },
  {
   "cell_type": "code",
   "execution_count": 41,
   "metadata": {},
   "outputs": [],
   "source": [
    "# X = test_df2.post\n",
    "# y = test_df2.Category\n",
    "# X_train, X_test, y_train, y_test = train_test_split(X, y, test_size=0.3, random_state = 42)"
   ]
  },
  {
   "cell_type": "markdown",
   "metadata": {},
   "source": [
    "## Naive Bayes Classifier for Multinomial Models\n",
    "CountVectorizer + TF-IDFTransformer + MultinomialNB"
   ]
  },
  {
   "cell_type": "code",
   "execution_count": 42,
   "metadata": {},
   "outputs": [],
   "source": [
    "# res2311 = Naive_Bayes_Classifier(X_train, X_test, y_train, y_test)"
   ]
  },
  {
   "cell_type": "markdown",
   "metadata": {},
   "source": [
    "## Linear Support Vector Machine\n",
    "CountVectorizer + TF-IDFTransformer + SGDClassifier"
   ]
  },
  {
   "cell_type": "code",
   "execution_count": 43,
   "metadata": {},
   "outputs": [],
   "source": [
    "# res2321 = Linear_Support_Vector(X_train, X_test, y_train, y_test)"
   ]
  },
  {
   "cell_type": "markdown",
   "metadata": {},
   "source": [
    "## Logistic Regression\n",
    "CountVectorizer + TF-IDFTransformer + Logistic Regression"
   ]
  },
  {
   "cell_type": "code",
   "execution_count": 44,
   "metadata": {},
   "outputs": [],
   "source": [
    "# res2331 = Logistic_Regression(X_train, X_test, y_train, y_test)"
   ]
  },
  {
   "cell_type": "markdown",
   "metadata": {},
   "source": [
    "## Decision Tree\n",
    "CountVectorizer + TF-IDFTransformer + DecisionTreeClassifier"
   ]
  },
  {
   "cell_type": "code",
   "execution_count": 45,
   "metadata": {},
   "outputs": [],
   "source": [
    "# res2341 = Decision_Tree(X_train, X_test, y_train, y_test)"
   ]
  },
  {
   "cell_type": "code",
   "execution_count": 46,
   "metadata": {},
   "outputs": [],
   "source": [
    "# from sklearn.metrics import confusion_matrix\n",
    "# import seaborn as sns\n",
    "\n",
    "# conf_mat = confusion_matrix(y_test, y_pred)\n",
    "# fig, ax = plt.subplots(figsize=(10,10))\n",
    "# sns.heatmap(conf_mat, annot=True, fmt='d',\n",
    "#             xticklabels=my_categories, yticklabels=my_categories)\n",
    "# plt.ylabel('Actual')\n",
    "# plt.xlabel('Predicted')\n",
    "# plt.show()"
   ]
  },
  {
   "cell_type": "markdown",
   "metadata": {},
   "source": [
    "## Results\n",
    "Results of the previously trained models"
   ]
  },
  {
   "cell_type": "code",
   "execution_count": 47,
   "metadata": {},
   "outputs": [],
   "source": [
    "# import pandas as pd\n",
    "\n",
    "# results = pd.DataFrame({'Model': ['Naive Bayes MultinomialNB', 'Linear SVM', 'Logistic Regression', 'Decision Tree'],\n",
    "#                          'Accuracy': [res2311, res2321, res2331, res2341]})\n",
    "# results.set_index('Model')\n",
    "# results.sort_values(by='Accuracy')"
   ]
  },
  {
   "cell_type": "markdown",
   "metadata": {},
   "source": [
    "### Cross Validation with linear SVM"
   ]
  },
  {
   "cell_type": "code",
   "execution_count": 48,
   "metadata": {},
   "outputs": [],
   "source": [
    "# mean_cv_res_sgd2 = Mean_cv_res_sgd(X_train, y_train)\n",
    "# print(mean_cv_res_sgd2)"
   ]
  },
  {
   "cell_type": "markdown",
   "metadata": {},
   "source": [
    "## Strategy 3\n",
    "text.replace(r'\\n', ' ') + Strategy 2"
   ]
  },
  {
   "cell_type": "code",
   "execution_count": 49,
   "metadata": {},
   "outputs": [],
   "source": [
    "# test_df3 = test_df2.copy()"
   ]
  },
  {
   "cell_type": "code",
   "execution_count": 50,
   "metadata": {},
   "outputs": [],
   "source": [
    "# REPLACE_BY_SPACE_RE = re.compile('[/(){}\\[\\]\\'\\“\\”\\’\\|@,;]')\n",
    "# BAD_SYMBOLS_RE = re.compile('[^0-9a-z #+_]')\n",
    "# STOPWORDS = set(stopwords.words('english'))\n",
    "\n",
    "# def clean_text(text):\n",
    "#     \"\"\"\n",
    "#         text: a string\n",
    "        \n",
    "#         return: modified initial string\n",
    "#     \"\"\"\n",
    "#     text = BeautifulSoup(text, \"lxml\").text # HTML decoding\n",
    "#     text = text.lower() # lowercase text\n",
    "#     text = REPLACE_BY_SPACE_RE.sub(' ', text) # replace REPLACE_BY_SPACE_RE symbols by space in text\n",
    "#     text = text.replace(r'\\n', ' ')\n",
    "#     #text = BAD_SYMBOLS_RE.sub('', text) # delete symbols which are in BAD_SYMBOLS_RE from text\n",
    "#     #text = ''.join(word for word in text if word not in punct)  # remove punctuation\n",
    "#     text = ' '.join(word for word in text.split() if word not in STOPWORDS) # delete stopwors from text\n",
    "#     return text\n",
    "    \n",
    "# test_df3['post'] = test_df3['post'].apply(clean_text)"
   ]
  },
  {
   "cell_type": "code",
   "execution_count": 51,
   "metadata": {},
   "outputs": [],
   "source": [
    "# def test_print_plot(index):\n",
    "#     example = test_df3[test_df3.index == index][['post', 'Category']].values[0]\n",
    "#     if len(example) > 0:\n",
    "#         print(example[0])\n",
    "#         print('Category:', example[1])\n",
    "# test_print_plot(10)"
   ]
  },
  {
   "cell_type": "code",
   "execution_count": 52,
   "metadata": {},
   "outputs": [],
   "source": [
    "# res3311 = Naive_Bayes_Classifier(X_train, X_test, y_train, y_test)"
   ]
  },
  {
   "cell_type": "code",
   "execution_count": 53,
   "metadata": {},
   "outputs": [],
   "source": [
    "# res3321 = Linear_Support_Vector(X_train, X_test, y_train, y_test)"
   ]
  },
  {
   "cell_type": "code",
   "execution_count": 54,
   "metadata": {},
   "outputs": [],
   "source": [
    "# res3331 = Logistic_Regression(X_train, X_test, y_train, y_test)"
   ]
  },
  {
   "cell_type": "code",
   "execution_count": 55,
   "metadata": {},
   "outputs": [],
   "source": [
    "# res3341 = Decision_Tree(X_train, X_test, y_train, y_test)"
   ]
  },
  {
   "cell_type": "code",
   "execution_count": 56,
   "metadata": {},
   "outputs": [],
   "source": [
    "# import pandas as pd\n",
    "\n",
    "# results = pd.DataFrame({'Model': ['Naive Bayes MultinomialNB', 'Linear SVM', 'Logistic Regression', 'Decision Tree'],\n",
    "#                          'Accuracy': [res3311, res3321, res3331, res3341]})\n",
    "# results.set_index('Model')\n",
    "# results.sort_values(by='Accuracy')"
   ]
  },
  {
   "cell_type": "markdown",
   "metadata": {},
   "source": [
    "## Cross Validation with linear SVM"
   ]
  },
  {
   "cell_type": "code",
   "execution_count": 57,
   "metadata": {},
   "outputs": [],
   "source": [
    "# X = test_df3.post\n",
    "# y = test_df3.Category\n",
    "# X_train, X_test, y_train, y_test = train_test_split(X, y, test_size=0.3, random_state = 42)"
   ]
  },
  {
   "cell_type": "code",
   "execution_count": 58,
   "metadata": {},
   "outputs": [],
   "source": [
    "# mean_cv_res_sgd3 = Mean_cv_res_sgd(X_train, y_train)\n",
    "# print(mean_cv_res_sgd3)"
   ]
  },
  {
   "cell_type": "markdown",
   "metadata": {},
   "source": [
    "## Random Forest"
   ]
  },
  {
   "cell_type": "code",
   "execution_count": 59,
   "metadata": {},
   "outputs": [],
   "source": [
    "from sklearn.ensemble import RandomForestClassifier\n",
    "from sklearn.model_selection import cross_val_score\n",
    "import numpy as np\n",
    "\n",
    "def Mean_cv_res_rf(X_train, y_train,m,n):\n",
    "    rf = Pipeline([('vect', CountVectorizer()),\n",
    "                    ('tfidf', TfidfTransformer()),\n",
    "                    ('clf', RandomForestClassifier(n_estimators=n, max_depth=m, random_state=0)),\n",
    "                   ])\n",
    "\n",
    "    cv_res_rf = cross_val_score(rf, X_train, y_train, cv=10)\n",
    "    mean_cv_res_rf = np.mean(cv_res_rf)\n",
    "    return mean_cv_res_rf"
   ]
  },
  {
   "cell_type": "code",
   "execution_count": 60,
   "metadata": {},
   "outputs": [],
   "source": [
    "# print(Mean_cv_res_rf(X_train, y_train,10,300))"
   ]
  },
  {
   "cell_type": "code",
   "execution_count": 61,
   "metadata": {},
   "outputs": [],
   "source": [
    "# print(Mean_cv_res_rf(X_train, y_train,100,300))"
   ]
  },
  {
   "cell_type": "code",
   "execution_count": 62,
   "metadata": {},
   "outputs": [],
   "source": [
    "# print(Mean_cv_res_rf(X_train, y_train,500,300))"
   ]
  },
  {
   "cell_type": "code",
   "execution_count": 63,
   "metadata": {},
   "outputs": [],
   "source": [
    "# print(Mean_cv_res_rf(X_train, y_train,500,400))"
   ]
  },
  {
   "cell_type": "code",
   "execution_count": 64,
   "metadata": {},
   "outputs": [],
   "source": [
    "# print(Mean_cv_res_rf(X_train, y_train,1000,400))"
   ]
  },
  {
   "cell_type": "code",
   "execution_count": 65,
   "metadata": {},
   "outputs": [],
   "source": [
    "# print(Mean_cv_res_rf(X_train, y_train,500,500))"
   ]
  },
  {
   "cell_type": "code",
   "execution_count": 66,
   "metadata": {},
   "outputs": [],
   "source": [
    "def Mean_cv_res_tfidf(X_train, y_train,m,n):\n",
    "    rf = Pipeline([('vect', TfidfVectorizer()),\n",
    "                ('tfidf', TfidfTransformer()),\n",
    "                ('clf', RandomForestClassifier(n_estimators=n, max_depth=m, random_state=0)),\n",
    "               ])\n",
    "\n",
    "    cv_res_rf_tfidf = cross_val_score(rf, X_train, y_train, cv=10)\n",
    "    mean_cv_res_rf_tfidf = np.mean(cv_res_rf_tfidf)\n",
    "    return mean_cv_res_rf_tfidf"
   ]
  },
  {
   "cell_type": "code",
   "execution_count": null,
   "metadata": {},
   "outputs": [],
   "source": [
    "print(Mean_cv_res_tfidf(X_train, y_train,500,500))"
   ]
  },
  {
   "cell_type": "code",
   "execution_count": null,
   "metadata": {},
   "outputs": [],
   "source": [
    "# print(Mean_cv_res_tfidf(X_train, y_train,200,100))"
   ]
  },
  {
   "cell_type": "markdown",
   "metadata": {},
   "source": [
    "Using TF-IDF as a vectorizer and transformer is slighly better than using CountVectorizer as a Vectorizer."
   ]
  },
  {
   "cell_type": "code",
   "execution_count": null,
   "metadata": {},
   "outputs": [],
   "source": [
    "def Mean_cv_res_sgd_tfidf(X_train, y_train, max_iter):\n",
    "    sgd = Pipeline([('vect', TfidfVectorizer()),\n",
    "                    ('tfidf', TfidfTransformer()),\n",
    "                    ('clf', SGDClassifier(loss='hinge', penalty='l2',alpha=1e-3, random_state=42, max_iter=max_iter, tol=None)),\n",
    "                   ])\n",
    "    cv_res_sgd_tfidf = cross_val_score(sgd, X_train, y_train, cv=10)\n",
    "    mean_cv_res_sgd_tfidf = np.mean(cv_res_sgd_tfidf)\n",
    "    return mean_cv_res_sgd_tfidf\n"
   ]
  },
  {
   "cell_type": "code",
   "execution_count": null,
   "metadata": {},
   "outputs": [],
   "source": [
    "mean_cv_res_sgd_tfidf = Mean_cv_res_sgd_tfidf(X_train, y_train, 10)"
   ]
  },
  {
   "cell_type": "code",
   "execution_count": null,
   "metadata": {},
   "outputs": [],
   "source": [
    "mean_cv_res_sgd_tfidf = Mean_cv_res_sgd_tfidf(X_train, y_train, 100)"
   ]
  },
  {
   "cell_type": "markdown",
   "metadata": {},
   "source": [
    "## XGBoost"
   ]
  },
  {
   "cell_type": "code",
   "execution_count": null,
   "metadata": {},
   "outputs": [],
   "source": [
    "import sys\n",
    "!{sys.executable} -m pip install xgboost"
   ]
  },
  {
   "cell_type": "code",
   "execution_count": null,
   "metadata": {},
   "outputs": [],
   "source": [
    "import xgboost as xgb\n",
    "\n",
    "xgb = Pipeline(steps=[('vect', TfidfVectorizer()),\n",
    "                      ('tfidf', TfidfTransformer()),\n",
    "                      ('xgboost', xgb.XGBClassifier(objective='multi:softmax'))])\n",
    "\n",
    "cv_res_xgb_tfidf = cross_val_score(xgb, X_train, y_train, cv=10)\n",
    "mean_cv_res_xgb_tfidf = np.mean(cv_res_xgb_tfidf)"
   ]
  },
  {
   "cell_type": "code",
   "execution_count": null,
   "metadata": {},
   "outputs": [],
   "source": [
    "mean_cv_res_xgb_tfidf"
   ]
  },
  {
   "cell_type": "code",
   "execution_count": null,
   "metadata": {},
   "outputs": [],
   "source": [
    "xgb.fit(X_train, y_train)\n",
    "\n",
    "y_pred = xgb.predict(X_test)"
   ]
  },
  {
   "cell_type": "code",
   "execution_count": null,
   "metadata": {},
   "outputs": [],
   "source": [
    "print('accuracy %s' % accuracy_score(y_pred, y_test))\n",
    "res_xgb = accuracy_score(y_pred, y_test)\n",
    "print(classification_report(y_test, y_pred,target_names=my_categories))"
   ]
  },
  {
   "cell_type": "code",
   "execution_count": null,
   "metadata": {},
   "outputs": [],
   "source": [
    "conf_mat = confusion_matrix(y_test, y_pred)\n",
    "fig, ax = plt.subplots(figsize=(10,10))\n",
    "sns.heatmap(conf_mat, annot=True, fmt='d',\n",
    "            xticklabels=my_categories, yticklabels=my_categories)\n",
    "plt.ylabel('Actual')\n",
    "plt.xlabel('Predicted')\n",
    "plt.show()"
   ]
  },
  {
   "cell_type": "markdown",
   "metadata": {},
   "source": [
    "## Light GBM"
   ]
  },
  {
   "cell_type": "code",
   "execution_count": null,
   "metadata": {},
   "outputs": [],
   "source": [
    "import sys\n",
    "!{sys.executable} -m pip install lightgbm"
   ]
  },
  {
   "cell_type": "code",
   "execution_count": null,
   "metadata": {},
   "outputs": [],
   "source": [
    "import lightgbm as lgbm\n",
    "\n",
    "tfidf_vec = TfidfVectorizer(dtype=np.float32, sublinear_tf=True, use_idf=True, smooth_idf=True)\n",
    "X_data_tfidf = tfidf_vec.fit_transform(test_df3['post'])\n",
    "X_train_tfidf = tfidf_vec.transform(X_train)\n",
    "X_test_tfidf = tfidf_vec.transform(X_test)\n",
    "\n",
    "clf_LGBM = lgbm.LGBMClassifier(objective='multiclass', verbose=-1, learning_rate=0.5, max_depth=20, num_leaves=50, n_estimators=120, max_bin=2000,)\n",
    "clf_LGBM.fit(X_train_tfidf, y_train, verbose=-1)\n",
    "predicted_LGBM = clf_LGBM.predict(X_test_tfidf)"
   ]
  },
  {
   "cell_type": "code",
   "execution_count": null,
   "metadata": {},
   "outputs": [],
   "source": [
    "cv_res_lgbm_tfidf = cross_val_score(clf_LGBM, X_train_tfidf, y_train, cv=10)\n",
    "mean_cv_res_lgbm_tfidf = np.mean(cv_res_lgbm_tfidf)"
   ]
  },
  {
   "cell_type": "code",
   "execution_count": null,
   "metadata": {},
   "outputs": [],
   "source": [
    "mean_cv_res_lgbm_tfidf"
   ]
  },
  {
   "cell_type": "code",
   "execution_count": null,
   "metadata": {},
   "outputs": [],
   "source": [
    "print('accuracy %s' % accuracy_score(predicted_LGBM, y_test))\n",
    "res_lgbm = accuracy_score(predicted_LGBM, y_test)\n",
    "print(classification_report(y_test, predicted_LGBM,target_names=my_categories))"
   ]
  },
  {
   "cell_type": "markdown",
   "metadata": {},
   "source": [
    "## Other: Investigating Abbreviations"
   ]
  },
  {
   "cell_type": "code",
   "execution_count": null,
   "metadata": {},
   "outputs": [],
   "source": [
    "data = pd.read_csv('combined_csv.csv')"
   ]
  },
  {
   "cell_type": "code",
   "execution_count": null,
   "metadata": {},
   "outputs": [],
   "source": [
    "STOPWORDS = set(stopwords.words('english'))\n",
    "STOPWORDSv2 = [word.upper() for word in STOPWORDS]"
   ]
  },
  {
   "cell_type": "code",
   "execution_count": null,
   "metadata": {},
   "outputs": [],
   "source": [
    "STOPWORDSv2"
   ]
  },
  {
   "cell_type": "code",
   "execution_count": null,
   "metadata": {},
   "outputs": [],
   "source": [
    "def clean_data(text):\n",
    "    \"\"\"\n",
    "        text: a string\n",
    "        \n",
    "        return: modified initial string\n",
    "    \"\"\"\n",
    "    text = BeautifulSoup(str(text), \"lxml\").text # HTML decoding\n",
    "    text = ' '.join(word for word in str(text).split() if word not in STOPWORDSv2) # delete stopwors from text\n",
    "    return text\n",
    "    \n",
    "data['Leading Comment'] = data['Leading Comment'].apply(clean_data)"
   ]
  },
  {
   "cell_type": "code",
   "execution_count": null,
   "metadata": {},
   "outputs": [],
   "source": [
    "data['Leading Comment'].head()"
   ]
  },
  {
   "cell_type": "code",
   "execution_count": null,
   "metadata": {},
   "outputs": [],
   "source": [
    "upcase_words = {}\n",
    "regex = r\"([A-Z]{3})\"\n",
    "\n",
    "for i, row in zip(range(500), data['Leading Comment'][:500]):\n",
    "    row = data['Leading Comment'].str.findall(regex)[i]\n",
    "    if len(row) != 0:\n",
    "        upcase_words[i] = row"
   ]
  },
  {
   "cell_type": "code",
   "execution_count": null,
   "metadata": {},
   "outputs": [],
   "source": [
    "df_upword = pd.DataFrame(upcase_words.items(), columns=['Original Index', 'Upper Case Words'])"
   ]
  },
  {
   "cell_type": "code",
   "execution_count": null,
   "metadata": {},
   "outputs": [],
   "source": [
    "df_upword.head()"
   ]
  },
  {
   "cell_type": "code",
   "execution_count": null,
   "metadata": {},
   "outputs": [],
   "source": [
    "df_upword['Number of UpCase Words'] =  df_upword['Upper Case Words'].apply(lambda x: len(x))"
   ]
  },
  {
   "cell_type": "code",
   "execution_count": null,
   "metadata": {},
   "outputs": [],
   "source": [
    "df_upword.head()"
   ]
  },
  {
   "cell_type": "code",
   "execution_count": null,
   "metadata": {},
   "outputs": [],
   "source": [
    "df_upword['Number of UpCase Words'].values.max()"
   ]
  },
  {
   "cell_type": "code",
   "execution_count": null,
   "metadata": {},
   "outputs": [],
   "source": [
    "df_upword['Number of UpCase Words'][df_upword['Number of UpCase Words'].values == 16]"
   ]
  },
  {
   "cell_type": "code",
   "execution_count": null,
   "metadata": {},
   "outputs": [],
   "source": [
    "df_upword['Number of UpCase Words'][0]"
   ]
  },
  {
   "cell_type": "code",
   "execution_count": null,
   "metadata": {},
   "outputs": [],
   "source": [
    "df_upword['Number of UpCase Words'][29]"
   ]
  },
  {
   "cell_type": "code",
   "execution_count": null,
   "metadata": {},
   "outputs": [],
   "source": [
    "df_upword['Upper Case Words'][0]"
   ]
  },
  {
   "cell_type": "code",
   "execution_count": null,
   "metadata": {},
   "outputs": [],
   "source": [
    "df_upword['Upper Case Words'][29]"
   ]
  },
  {
   "cell_type": "code",
   "execution_count": null,
   "metadata": {},
   "outputs": [],
   "source": [
    "def ABB(n):\n",
    "    abb = {}\n",
    "    for word in df_upword['Upper Case Words'][0]:\n",
    "        if word in abb.keys():\n",
    "            abb[word] += 1\n",
    "        else:\n",
    "            abb[word] = 1\n",
    "    return abb"
   ]
  },
  {
   "cell_type": "code",
   "execution_count": null,
   "metadata": {},
   "outputs": [],
   "source": [
    "ABB(0)"
   ]
  },
  {
   "cell_type": "code",
   "execution_count": null,
   "metadata": {},
   "outputs": [],
   "source": [
    "ABB(29)"
   ]
  },
  {
   "cell_type": "code",
   "execution_count": null,
   "metadata": {},
   "outputs": [],
   "source": []
  },
  {
   "cell_type": "code",
   "execution_count": null,
   "metadata": {},
   "outputs": [],
   "source": []
  },
  {
   "cell_type": "code",
   "execution_count": null,
   "metadata": {},
   "outputs": [],
   "source": []
  }
 ],
 "metadata": {
  "kernelspec": {
   "display_name": "Python 3",
   "language": "python",
   "name": "python3"
  },
  "language_info": {
   "codemirror_mode": {
    "name": "ipython",
    "version": 3
   },
   "file_extension": ".py",
   "mimetype": "text/x-python",
   "name": "python",
   "nbconvert_exporter": "python",
   "pygments_lexer": "ipython3",
   "version": "3.8.5"
  }
 },
 "nbformat": 4,
 "nbformat_minor": 4
}
